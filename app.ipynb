{
  "nbformat": 4,
  "nbformat_minor": 0,
  "metadata": {
    "accelerator": "GPU",
    "colab": {
      "name": "app.ipynb",
      "provenance": [],
      "collapsed_sections": []
    },
    "kernelspec": {
      "display_name": "Python 3",
      "language": "python",
      "name": "python3"
    },
    "language_info": {
      "codemirror_mode": {
        "name": "ipython",
        "version": 3
      },
      "file_extension": ".py",
      "mimetype": "text/x-python",
      "name": "python",
      "nbconvert_exporter": "python",
      "pygments_lexer": "ipython3",
      "version": "3.6.4"
    }
  },
  "cells": [
    {
      "cell_type": "markdown",
      "metadata": {
        "id": "l97knuVlzTOD"
      },
      "source": [
        "# **Connecting Google Drive to Colab**\n",
        "\n",
        "\n",
        "\n",
        "\n",
        "\n",
        "\n"
      ]
    },
    {
      "cell_type": "code",
      "metadata": {
        "colab": {
          "base_uri": "https://localhost:8080/"
        },
        "id": "ZqUGrnG9zPjL",
        "outputId": "c557b6ef-e295-4b44-ac59-b04ab8ba4004"
      },
      "source": [
        "from google.colab import drive\n",
        "drive.mount('/content/drive')"
      ],
      "execution_count": null,
      "outputs": [
        {
          "output_type": "stream",
          "text": [
            "Drive already mounted at /content/drive; to attempt to forcibly remount, call drive.mount(\"/content/drive\", force_remount=True).\n"
          ],
          "name": "stdout"
        }
      ]
    },
    {
      "cell_type": "markdown",
      "metadata": {
        "id": "j_mvR1TDzntG"
      },
      "source": [
        "# **flask-ngrok is necessary to expose the port**\n"
      ]
    },
    {
      "cell_type": "code",
      "metadata": {
        "colab": {
          "base_uri": "https://localhost:8080/"
        },
        "id": "-1vfTrVxZ83N",
        "outputId": "c8a23513-c95d-4271-fb3c-4b5c9ae70648"
      },
      "source": [
        "!pip install flask-ngrok"
      ],
      "execution_count": null,
      "outputs": [
        {
          "output_type": "stream",
          "text": [
            "Requirement already satisfied: flask-ngrok in /usr/local/lib/python3.7/dist-packages (0.0.25)\n",
            "Requirement already satisfied: requests in /usr/local/lib/python3.7/dist-packages (from flask-ngrok) (2.23.0)\n",
            "Requirement already satisfied: Flask>=0.8 in /usr/local/lib/python3.7/dist-packages (from flask-ngrok) (1.1.4)\n",
            "Requirement already satisfied: chardet<4,>=3.0.2 in /usr/local/lib/python3.7/dist-packages (from requests->flask-ngrok) (3.0.4)\n",
            "Requirement already satisfied: certifi>=2017.4.17 in /usr/local/lib/python3.7/dist-packages (from requests->flask-ngrok) (2021.5.30)\n",
            "Requirement already satisfied: idna<3,>=2.5 in /usr/local/lib/python3.7/dist-packages (from requests->flask-ngrok) (2.10)\n",
            "Requirement already satisfied: urllib3!=1.25.0,!=1.25.1,<1.26,>=1.21.1 in /usr/local/lib/python3.7/dist-packages (from requests->flask-ngrok) (1.24.3)\n",
            "Requirement already satisfied: Werkzeug<2.0,>=0.15 in /usr/local/lib/python3.7/dist-packages (from Flask>=0.8->flask-ngrok) (1.0.1)\n",
            "Requirement already satisfied: click<8.0,>=5.1 in /usr/local/lib/python3.7/dist-packages (from Flask>=0.8->flask-ngrok) (7.1.2)\n",
            "Requirement already satisfied: itsdangerous<2.0,>=0.24 in /usr/local/lib/python3.7/dist-packages (from Flask>=0.8->flask-ngrok) (1.1.0)\n",
            "Requirement already satisfied: Jinja2<3.0,>=2.10.1 in /usr/local/lib/python3.7/dist-packages (from Flask>=0.8->flask-ngrok) (2.11.3)\n",
            "Requirement already satisfied: MarkupSafe>=0.23 in /usr/local/lib/python3.7/dist-packages (from Jinja2<3.0,>=2.10.1->Flask>=0.8->flask-ngrok) (2.0.1)\n"
          ],
          "name": "stdout"
        }
      ]
    },
    {
      "cell_type": "markdown",
      "metadata": {
        "id": "uC6nqdoxzw3G"
      },
      "source": [
        "# **Importing the required Data Science Libraries**"
      ]
    },
    {
      "cell_type": "code",
      "metadata": {
        "id": "Ni4kP3eYqQr_"
      },
      "source": [
        "import keras\n",
        "from keras.preprocessing import image\n",
        "from keras.models import load_model\n",
        "from keras.applications.vgg16 import preprocess_input\n",
        "import numpy as np"
      ],
      "execution_count": null,
      "outputs": []
    },
    {
      "cell_type": "markdown",
      "metadata": {
        "id": "UkQ-SmEd0PXE"
      },
      "source": [
        "# **Importing Flask Backend Libraries**"
      ]
    },
    {
      "cell_type": "code",
      "metadata": {
        "id": "37krKNlP0Odu"
      },
      "source": [
        "import requests\n",
        "from flask import Flask, render_template, request\n",
        "from flask_ngrok import run_with_ngrok\n",
        "import json"
      ],
      "execution_count": null,
      "outputs": []
    },
    {
      "cell_type": "markdown",
      "metadata": {
        "id": "Uwg8mPVPz83m"
      },
      "source": [
        "# **Defining Constants**"
      ]
    },
    {
      "cell_type": "code",
      "metadata": {
        "id": "Vy_DkUZmZdgg"
      },
      "source": [
        "constants = {\n",
        "    \"imagePath\":\"/content/drive/MyDrive/(MAIN)COVID-19 Detection using X-rays/images\",\n",
        "    \"modelPath\":\"/content/drive/MyDrive/(MAIN)COVID-19 Detection using X-rays/model/transferModel.h5\",\n",
        "    \"pathToTemplate\": \"/content/drive/MyDrive/(MAIN)COVID-19 Detection using X-rays/templates\",\n",
        "    \"pathToStatic\": \"/content/drive/MyDrive/(MAIN)COVID-19 Detection using X-rays/static\",\n",
        "    \"apiURL\": r\"https://api.apify.com/v2/key-value-stores/toDWvRj1JpTXiM8FF/records/LATEST?disableRedirect=true\",\n",
        "}"
      ],
      "execution_count": null,
      "outputs": []
    },
    {
      "cell_type": "markdown",
      "metadata": {
        "id": "bYx8nXR20Be-"
      },
      "source": [
        "# **Loading the Trained DL model**"
      ]
    },
    {
      "cell_type": "code",
      "metadata": {
        "id": "t8nOBEW3po7o"
      },
      "source": [
        "model = keras.models.load_model(constants[\"modelPath\"])"
      ],
      "execution_count": null,
      "outputs": []
    },
    {
      "cell_type": "markdown",
      "metadata": {
        "id": "1t3B82cL0Yc0"
      },
      "source": [
        "# **Instantiating a flask instance and exposing it to ngrok**"
      ]
    },
    {
      "cell_type": "code",
      "metadata": {
        "id": "JYFVPZpNZ7YU"
      },
      "source": [
        "app = Flask(\n",
        "    __name__,\n",
        "    template_folder=constants[\"pathToTemplate\"],\n",
        "    static_folder=constants[\"pathToStatic\"],\n",
        ")\n",
        "run_with_ngrok(app)"
      ],
      "execution_count": null,
      "outputs": []
    },
    {
      "cell_type": "markdown",
      "metadata": {
        "id": "glOnzdxh0fFe"
      },
      "source": [
        "# **Method which acts as an Entry Point**"
      ]
    },
    {
      "cell_type": "code",
      "metadata": {
        "id": "lTx44_VuZ7YV"
      },
      "source": [
        "@app.route(\"/\", methods=[\"GET\"])\n",
        "@app.route(\"/index\", methods=[\"GET\"])\n",
        "def index():\n",
        "    response = requests.get(constants[\"apiURL\"])\n",
        "    jsonData = json.loads(response.text)\n",
        "    return render_template(\"index.html\", jsonData=jsonData)"
      ],
      "execution_count": null,
      "outputs": []
    },
    {
      "cell_type": "markdown",
      "metadata": {
        "id": "gZ-AlKA20oGe"
      },
      "source": [
        "# **The Predict Method**"
      ]
    },
    {
      "cell_type": "code",
      "metadata": {
        "id": "hXjcfjlue-qg"
      },
      "source": [
        "@app.route(\"/get-prediction\",methods=[\"GET\",\"POST\"])\n",
        "@app.route(\"/prediction\",methods=[\"GET\",\"POST\"])\n",
        "def getPrediction():\n",
        "  if request.method==\"GET\":\n",
        "    return render_template(\"prediction.html\")\n",
        "  elif request.method==\"POST\":\n",
        "    imageFile=request.files[\"image\"]\n",
        "    imagePath=constants[\"imagePath\"]+\"/\"+imageFile.filename\n",
        "    imageFile.save(imagePath)\n",
        "    testImage=image.load_img(imagePath,target_size=(224,224))\n",
        "    x=image.img_to_array(testImage)\n",
        "    x=np.expand_dims(x,axis=0)\n",
        "    imageData=preprocess_input(x)\n",
        "    classes=model.predict(imageData)\n",
        "    prediction=np.argmax(classes,axis=1)\n",
        "    if prediction==[1]:\n",
        "      newPred=\"Normal\"\n",
        "    else:\n",
        "      newPred=\"Corona\"\n",
        "    return render_template(\"prediction.html\",newPred=newPred)\n",
        "\n",
        "\n"
      ],
      "execution_count": null,
      "outputs": []
    },
    {
      "cell_type": "markdown",
      "metadata": {
        "id": "ju-PiRdx0rnV"
      },
      "source": [
        "# **Running the app with Ngrok**"
      ]
    },
    {
      "cell_type": "code",
      "metadata": {
        "colab": {
          "background_save": true,
          "base_uri": "https://localhost:8080/"
        },
        "id": "Wln6WLS0VfQo",
        "outputId": "4f3f33d6-4812-437d-efec-86f70fe1296d"
      },
      "source": [
        "app.run()"
      ],
      "execution_count": null,
      "outputs": [
        {
          "output_type": "stream",
          "text": [
            " * Serving Flask app \"__main__\" (lazy loading)\n",
            " * Environment: production\n",
            "\u001b[31m   WARNING: This is a development server. Do not use it in a production deployment.\u001b[0m\n",
            "\u001b[2m   Use a production WSGI server instead.\u001b[0m\n",
            " * Debug mode: off\n"
          ],
          "name": "stdout"
        },
        {
          "output_type": "stream",
          "text": [
            " * Running on http://127.0.0.1:5000/ (Press CTRL+C to quit)\n"
          ],
          "name": "stderr"
        },
        {
          "output_type": "stream",
          "text": [
            " * Running on http://add565266dbe.ngrok.io\n",
            " * Traffic stats available on http://127.0.0.1:4040\n"
          ],
          "name": "stdout"
        },
        {
          "output_type": "stream",
          "text": [
            "127.0.0.1 - - [11/Jul/2021 07:21:39] \"\u001b[37mGET / HTTP/1.1\u001b[0m\" 200 -\n",
            "127.0.0.1 - - [11/Jul/2021 07:21:39] \"\u001b[37mGET /static/stylesForIndex.css HTTP/1.1\u001b[0m\" 200 -\n",
            "127.0.0.1 - - [11/Jul/2021 07:21:39] \"\u001b[37mGET /static/index.js HTTP/1.1\u001b[0m\" 200 -\n",
            "127.0.0.1 - - [11/Jul/2021 07:21:39] \"\u001b[37mGET /static/liquid-soap.png HTTP/1.1\u001b[0m\" 200 -\n",
            "127.0.0.1 - - [11/Jul/2021 07:21:40] \"\u001b[33mGET /favicon.ico HTTP/1.1\u001b[0m\" 404 -\n",
            "127.0.0.1 - - [11/Jul/2021 07:21:40] \"\u001b[37mGET / HTTP/1.1\u001b[0m\" 200 -\n",
            "127.0.0.1 - - [11/Jul/2021 07:21:42] \"\u001b[37mGET /static/stylesForIndex.css HTTP/1.1\u001b[0m\" 200 -\n",
            "127.0.0.1 - - [11/Jul/2021 07:21:43] \"\u001b[37mGET /static/index.js HTTP/1.1\u001b[0m\" 200 -\n",
            "127.0.0.1 - - [11/Jul/2021 07:21:43] \"\u001b[37mGET /static/liquid-soap.png HTTP/1.1\u001b[0m\" 200 -\n",
            "127.0.0.1 - - [11/Jul/2021 07:21:45] \"\u001b[37mGET / HTTP/1.1\u001b[0m\" 200 -\n",
            "127.0.0.1 - - [11/Jul/2021 07:21:56] \"\u001b[37mGET / HTTP/1.1\u001b[0m\" 200 -\n",
            "127.0.0.1 - - [11/Jul/2021 07:21:56] \"\u001b[37mGET /static/stylesForIndex.css HTTP/1.1\u001b[0m\" 200 -\n",
            "127.0.0.1 - - [11/Jul/2021 07:21:56] \"\u001b[37mGET /static/index.js HTTP/1.1\u001b[0m\" 200 -\n",
            "127.0.0.1 - - [11/Jul/2021 07:21:57] \"\u001b[37mGET /static/liquid-soap.png HTTP/1.1\u001b[0m\" 200 -\n",
            "127.0.0.1 - - [11/Jul/2021 07:21:57] \"\u001b[33mGET /favicon.ico HTTP/1.1\u001b[0m\" 404 -\n",
            "127.0.0.1 - - [11/Jul/2021 07:23:45] \"\u001b[37mGET /prediction HTTP/1.1\u001b[0m\" 200 -\n",
            "127.0.0.1 - - [11/Jul/2021 07:23:46] \"\u001b[37mGET /static/stylesForPrediction.css HTTP/1.1\u001b[0m\" 200 -\n",
            "127.0.0.1 - - [11/Jul/2021 07:23:47] \"\u001b[37mGET /prediction HTTP/1.1\u001b[0m\" 200 -\n",
            "127.0.0.1 - - [11/Jul/2021 07:23:49] \"\u001b[37mGET /static/stylesForPrediction.css HTTP/1.1\u001b[0m\" 200 -\n",
            "[2021-07-11 07:24:01,266] ERROR in app: Exception on /get-prediction [POST]\n",
            "Traceback (most recent call last):\n",
            "  File \"/usr/local/lib/python3.7/dist-packages/flask/app.py\", line 2447, in wsgi_app\n",
            "    response = self.full_dispatch_request()\n",
            "  File \"/usr/local/lib/python3.7/dist-packages/flask/app.py\", line 1952, in full_dispatch_request\n",
            "    rv = self.handle_user_exception(e)\n",
            "  File \"/usr/local/lib/python3.7/dist-packages/flask/app.py\", line 1821, in handle_user_exception\n",
            "    reraise(exc_type, exc_value, tb)\n",
            "  File \"/usr/local/lib/python3.7/dist-packages/flask/_compat.py\", line 39, in reraise\n",
            "    raise value\n",
            "  File \"/usr/local/lib/python3.7/dist-packages/flask/app.py\", line 1950, in full_dispatch_request\n",
            "    rv = self.dispatch_request()\n",
            "  File \"/usr/local/lib/python3.7/dist-packages/flask/app.py\", line 1936, in dispatch_request\n",
            "    return self.view_functions[rule.endpoint](**req.view_args)\n",
            "  File \"<ipython-input-258-339f23d43dd5>\", line 10, in getPrediction\n",
            "    testImage=image.load_img(imagePath,target_size=(224,224))\n",
            "  File \"/usr/local/lib/python3.7/dist-packages/keras/preprocessing/image.py\", line 293, in load_img\n",
            "    target_size=target_size, interpolation=interpolation)\n",
            "  File \"/usr/local/lib/python3.7/dist-packages/keras_preprocessing/image/utils.py\", line 114, in load_img\n",
            "    img = pil_image.open(io.BytesIO(f.read()))\n",
            "  File \"/usr/local/lib/python3.7/dist-packages/PIL/Image.py\", line 2896, in open\n",
            "    \"cannot identify image file %r\" % (filename if filename else fp)\n",
            "PIL.UnidentifiedImageError: cannot identify image file <_io.BytesIO object at 0x7f510004c290>\n",
            "127.0.0.1 - - [11/Jul/2021 07:24:01] \"\u001b[35m\u001b[1mPOST /get-prediction HTTP/1.1\u001b[0m\" 500 -\n",
            "127.0.0.1 - - [11/Jul/2021 07:24:29] \"\u001b[37mGET / HTTP/1.1\u001b[0m\" 200 -\n",
            "127.0.0.1 - - [11/Jul/2021 07:43:14] \"\u001b[37mGET / HTTP/1.1\u001b[0m\" 200 -\n",
            "127.0.0.1 - - [11/Jul/2021 07:50:43] \"\u001b[37mGET / HTTP/1.1\u001b[0m\" 200 -\n",
            "127.0.0.1 - - [11/Jul/2021 08:20:26] \"\u001b[37mGET / HTTP/1.1\u001b[0m\" 200 -\n",
            "127.0.0.1 - - [11/Jul/2021 08:49:21] \"\u001b[37mGET / HTTP/1.1\u001b[0m\" 200 -\n",
            "127.0.0.1 - - [11/Jul/2021 08:49:22] \"\u001b[33mGET /favicon.ico HTTP/1.1\u001b[0m\" 404 -\n",
            "127.0.0.1 - - [11/Jul/2021 08:49:29] \"\u001b[37mGET / HTTP/1.1\u001b[0m\" 200 -\n",
            "127.0.0.1 - - [11/Jul/2021 08:49:35] \"\u001b[37mGET / HTTP/1.1\u001b[0m\" 200 -\n",
            "127.0.0.1 - - [11/Jul/2021 08:49:35] \"\u001b[37mGET /static/stylesForIndex.css HTTP/1.1\u001b[0m\" 200 -\n",
            "127.0.0.1 - - [11/Jul/2021 08:49:37] \"\u001b[37mGET /static/index.js HTTP/1.1\u001b[0m\" 200 -\n",
            "127.0.0.1 - - [11/Jul/2021 08:49:38] \"\u001b[37mGET /static/liquid-soap.png HTTP/1.1\u001b[0m\" 200 -\n",
            "127.0.0.1 - - [11/Jul/2021 08:49:38] \"\u001b[37mGET /static/index.js?cb=1625993377767&fingerprint=c2VwLW5vLXJlZGlyZWN0&onIframeFlag HTTP/1.1\u001b[0m\" 200 -\n",
            "127.0.0.1 - - [11/Jul/2021 08:49:40] \"\u001b[33mGET /favicon.ico HTTP/1.1\u001b[0m\" 404 -\n",
            "127.0.0.1 - - [11/Jul/2021 08:49:51] \"\u001b[37mGET /prediction HTTP/1.1\u001b[0m\" 200 -\n",
            "127.0.0.1 - - [11/Jul/2021 08:49:52] \"\u001b[37mGET /static/stylesForPrediction.css HTTP/1.1\u001b[0m\" 200 -\n",
            "127.0.0.1 - - [11/Jul/2021 08:50:18] \"\u001b[37mGET / HTTP/1.1\u001b[0m\" 200 -\n"
          ],
          "name": "stderr"
        }
      ]
    }
  ]
}